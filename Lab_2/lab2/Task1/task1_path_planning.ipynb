{
 "cells": [
  {
   "cell_type": "code",
   "execution_count": 1,
   "metadata": {},
   "outputs": [
    {
     "ename": "ModuleNotFoundError",
     "evalue": "No module named 'path_planning'",
     "output_type": "error",
     "traceback": [
      "\u001b[1;31m---------------------------------------------------------------------------\u001b[0m",
      "\u001b[1;31mModuleNotFoundError\u001b[0m                       Traceback (most recent call last)",
      "\u001b[1;32m<ipython-input-1-9005488da036>\u001b[0m in \u001b[0;36m<module>\u001b[1;34m\u001b[0m\n\u001b[1;32m----> 1\u001b[1;33m \u001b[1;32mimport\u001b[0m \u001b[0mpath_planning\u001b[0m \u001b[1;32mas\u001b[0m \u001b[0mpp\u001b[0m\u001b[1;33m\u001b[0m\u001b[1;33m\u001b[0m\u001b[0m\n\u001b[0m\u001b[0;32m      2\u001b[0m \u001b[1;32mimport\u001b[0m \u001b[0mmatplotlib\u001b[0m\u001b[1;33m.\u001b[0m\u001b[0mpyplot\u001b[0m \u001b[1;32mas\u001b[0m \u001b[0mplt\u001b[0m\u001b[1;33m\u001b[0m\u001b[1;33m\u001b[0m\u001b[0m\n\u001b[0;32m      3\u001b[0m \u001b[1;33m\u001b[0m\u001b[0m\n\u001b[0;32m      4\u001b[0m \"\"\"\n\u001b[0;32m      5\u001b[0m \u001b[0mcreate\u001b[0m \u001b[0mmaps\u001b[0m \u001b[1;32mwith\u001b[0m \u001b[0mobstacles\u001b[0m \u001b[0mrandomly\u001b[0m \u001b[0mdistributed\u001b[0m\u001b[1;33m\u001b[0m\u001b[1;33m\u001b[0m\u001b[0m\n",
      "\u001b[1;31mModuleNotFoundError\u001b[0m: No module named 'path_planning'"
     ]
    }
   ],
   "source": [
    "import path_planning as pp\n",
    "import matplotlib.pyplot as plt\n",
    "\n",
    "\"\"\"\n",
    "create maps with obstacles randomly distributed\n",
    "cells with a value of 0: Free cell; \n",
    "                     -1: Obstacle;\n",
    "                     -2: Start point;\n",
    "                     -3: Goal point;\n",
    "\"\"\"\n",
    "\n",
    "# create a map with obstacles randomly distributed\n",
    "_map_ = pp.generateMap2d([60,60])\n",
    "plt.clf()\n",
    "plt.imshow(_map_)\n",
    "\n",
    "# create a map with rotated H shape obstacle and obstacles randomly distributed\n",
    "map_h_object, info = pp.generateMap2d_obstacle([60,60])\n",
    "plt.clf()\n",
    "plt.imshow(map_h_object)"
   ]
  },
  {
   "cell_type": "code",
   "execution_count": 2,
   "metadata": {},
   "outputs": [],
   "source": [
    "# Solve using your implemented A* algorithm\n",
    "# See helper function in search_algorithm.py\n"
   ]
  },
  {
   "cell_type": "code",
   "execution_count": 3,
   "metadata": {},
   "outputs": [
    {
     "data": {
      "image/png": "[encoded data removed]",
      "text/plain": [
       "<Figure size 432x288 with 2 Axes>"
      ]
     },
     "metadata": {
      "needs_background": "light"
     },
     "output_type": "display_data"
    }
   ],
   "source": [
    "# execute your search algorithm and visualize result\n",
    "\n",
    "\n",
    "## solved_map description\n",
    "##   0 - unexpanded cell\n",
    "##   -1 - obstacle\n",
    "##   -2 - start point\n",
    "##   -3 - goal point\n",
    "##   positive_number - one of the values described in lab2 description (heuristic cost, travel cost, cell total cost,...)\n",
    "\n",
    "example_solved_map = map_h_object\n",
    "\n",
    "x_corr, y_corr = range(30),  range(30)[::-1]\n",
    "example_solved_path = [x_corr, y_corr]\n",
    "\n",
    "pp.plotMap(example_solved_map,example_solved_path)"
   ]
  },
  {
   "cell_type": "code",
   "execution_count": null,
   "metadata": {},
   "outputs": [],
   "source": [
    "# Comparing different approaches"
   ]
  }
 ],
 "metadata": {
  "kernelspec": {
   "display_name": "Python 3",
   "language": "python",
   "name": "python3"
  },
  "language_info": {
   "codemirror_mode": {
    "name": "ipython",
    "version": 3
   },
   "file_extension": ".py",
   "mimetype": "text/x-python",
   "name": "python",
   "nbconvert_exporter": "python",
   "pygments_lexer": "ipython3",
   "version": "3.7.2"
  }
 },
 "nbformat": 4,
 "nbformat_minor": 2
}