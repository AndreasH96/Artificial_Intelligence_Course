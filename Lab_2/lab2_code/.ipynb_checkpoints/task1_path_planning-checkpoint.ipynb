{
 "cells": [
  {
   "cell_type": "code",
   "execution_count": 2,
   "metadata": {},
   "outputs": [
    {
     "data": {
      "text/plain": [
       "<matplotlib.image.AxesImage at 0x119045f98>"
      ]
     },
     "execution_count": 2,
     "metadata": {},
     "output_type": "execute_result"
    },
    {
     "data": {
      "image/png": "[encoded data removed]",
      "text/plain": [
       "<Figure size 432x288 with 1 Axes>"
      ]
     },
     "metadata": {
      "needs_background": "light"
     },
     "output_type": "display_data"
    }
   ],
   "source": [
    "import path_planning as pp\n",
    "import matplotlib.pyplot as plt\n",
    "\n",
    "\"\"\"\n",
    "create maps with obstacles randomly distributed\n",
    "cells with a value of 0: Free cell; \n",
    "                     -1: Obstacle;\n",
    "                     -2: Start point;\n",
    "                     -3: Goal point;\n",
    "\"\"\"\n",
    "\n",
    "# create a map with obstacles randomly distributed\n",
    "_map_ = pp.generateMap2d([60,60])\n",
    "plt.clf()\n",
    "plt.imshow(_map_)\n",
    "\n",
    "# create a map with rotated H shape obstacle and obstacles randomly distributed\n",
    "map_h_object, info = pp.generateMap2d_obstacle([60,60])\n",
    "plt.clf()\n",
    "plt.imshow(map_h_object)"
   ]
  },
  {
   "cell_type": "code",
   "execution_count": 2,
   "metadata": {},
   "outputs": [],
   "source": [
    "# Solve using your implemented A* algorithm\n",
    "# See helper function in search_algorithm.py\n"
   ]
  },
  {
   "cell_type": "code",
   "execution_count": 3,
   "metadata": {},
   "outputs": [
    {
     "data": {
      "image/png": "[encoded data removed]",
      "text/plain": [
       "<Figure size 432x288 with 2 Axes>"
      ]
     },
     "metadata": {
      "needs_background": "light"
     },
     "output_type": "display_data"
    }
   ],
   "source": [
    "# execute your search algorithm and visualize result\n",
    "\n",
    "\n",
    "## solved_map description\n",
    "##   0 - unexpanded cell\n",
    "##   -1 - obstacle\n",
    "##   -2 - start point\n",
    "##   -3 - goal point\n",
    "##   positive_number - one of the values described in lab2 description (heuristic cost, travel cost, cell total cost,...)\n",
    "\n",
    "example_solved_map = map_h_object\n",
    "\n",
    "x_corr, y_corr = range(30),  range(30)[::-1]\n",
    "example_solved_path = [x_corr, y_corr]\n",
    "\n",
    "pp.plotMap(example_solved_map,example_solved_path)"
   ]
  },
  {
   "cell_type": "code",
   "execution_count": null,
   "metadata": {},
   "outputs": [],
   "source": [
    "# Comparing different approaches"
   ]
  }
 ],
 "metadata": {
  "kernelspec": {
   "display_name": "Python 3",
   "language": "python",
   "name": "python3"
  },
  "language_info": {
   "codemirror_mode": {
    "name": "ipython",
    "version": 3
   },
   "file_extension": ".py",
   "mimetype": "text/x-python",
   "name": "python",
   "nbconvert_exporter": "python",
   "pygments_lexer": "ipython3",
   "version": "3.7.3"
  }
 },
 "nbformat": 4,
 "nbformat_minor": 2
}
